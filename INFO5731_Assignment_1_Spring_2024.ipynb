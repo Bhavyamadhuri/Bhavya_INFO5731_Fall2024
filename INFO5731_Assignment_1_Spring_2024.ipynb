{
  "cells": [
    {
      "cell_type": "markdown",
      "metadata": {
        "id": "view-in-github",
        "colab_type": "text"
      },
      "source": [
        "<a href=\"https://colab.research.google.com/github/Bhavyamadhuri/Bhavya_INFO5731_Fall2024/blob/main/INFO5731_Assignment_1_Spring_2024.ipynb\" target=\"_parent\"><img src=\"https://colab.research.google.com/assets/colab-badge.svg\" alt=\"Open In Colab\"/></a>"
      ]
    },
    {
      "cell_type": "markdown",
      "metadata": {
        "id": "Ryk8D1Q4Wsrp"
      },
      "source": [
        "# **INFO5731 Assignment One**"
      ]
    },
    {
      "cell_type": "markdown",
      "source": [
        "This assignment includes range of programming tasks and data analysis exercises, aiming to enhance your Python skills and proficiency in string manipulation, numerical computations, and data science. Follow the instructions carefully and design well-structured Python programs to address each question.\n",
        "\n",
        "Late Submission will have a penalty of 10% reduction for each day after the deadline."
      ],
      "metadata": {
        "id": "qcP6re2g5A5r"
      }
    },
    {
      "cell_type": "markdown",
      "metadata": {
        "id": "JkzR8cFAyGik"
      },
      "source": [
        "# Question 1 (10 points).\n",
        "\n",
        "The formula that describes the volume V of a hemisphere with radius r is the following:\n",
        "\n",
        "$ V=\\frac{2}{3}\\ast\\ \\pi\\ast\\ r^3 $\n",
        "\n",
        "Write a program to calculate the value of V when r is in the range of even numbers from 1-20. Output the result in the following format:\n",
        "\n",
        "\tr\tV\n",
        "\t2\t…\n",
        "\t4\t…\n",
        "\t6\t…\n",
        "\t.\n",
        "\t.\n",
        "\t.\n",
        "\t20\t…\n"
      ]
    },
    {
      "cell_type": "code",
      "execution_count": 1,
      "metadata": {
        "id": "jDyTKYs-yGit",
        "colab": {
          "base_uri": "https://localhost:8080/"
        },
        "outputId": "f46cf52d-6db6-4b8a-ebae-883d7b059b73"
      },
      "outputs": [
        {
          "output_type": "stream",
          "name": "stdout",
          "text": [
            "r 2 V 16.76\n",
            "r 4 V 134.04\n",
            "r 6 V 452.39\n",
            "r 8 V 1072.33\n",
            "r 10 V 2094.40\n",
            "r 12 V 3619.11\n",
            "r 14 V 5747.02\n",
            "r 16 V 8578.64\n",
            "r 18 V 12214.51\n",
            "r 20 V 16755.16\n"
          ]
        }
      ],
      "source": [
        "# Your code here\n",
        "import math\n",
        "\n",
        "# Function for alculating the volume V of a hemisphere with radius r\n",
        "def volume_of_hemisphere(r):\n",
        "    return (2/3) * math.pi * r**3\n",
        "\n",
        "# For the range of even numbers between 1 and 20:\n",
        "for r in range(2, 21, 2):\n",
        "    volume = volume_of_hemisphere(r)\n",
        "    print(f\"r {r} V {volume:.2f}\")\n",
        "\n"
      ]
    },
    {
      "cell_type": "markdown",
      "metadata": {
        "id": "90_NR8c5XGWc"
      },
      "source": [
        "# Question 2 (20 points)\n",
        "\n",
        "(a) Write a Python program to generate a sequence of 12 random numbers falling within the range of 50 to 150.\n",
        "\n",
        "(b) Arrange the generated numbers in ascending order. Display the sorted list.\n",
        "\n",
        "(c) Extend the program to arrange the numbers in descending order as well. Present the sorted list accordingly.\n",
        "\n",
        "(d) Compute and output the average of the entire group of generated numbers.\n",
        "\n",
        "(e) Enhance the program to calculate and display the average of the first 6 numbers from both the ascending and descending sorted lists."
      ]
    },
    {
      "cell_type": "code",
      "execution_count": 2,
      "metadata": {
        "id": "5QX6bJjGWXY9",
        "colab": {
          "base_uri": "https://localhost:8080/"
        },
        "outputId": "c0d97847-3057-46e0-ed64-9b29d4affe04"
      },
      "outputs": [
        {
          "output_type": "stream",
          "name": "stdout",
          "text": [
            "Generated random numbers: [133, 75, 118, 145, 125, 149, 74, 106, 55, 118, 67, 60]\n",
            "\n",
            "Numbers in ascending order: [55, 60, 67, 74, 75, 106, 118, 118, 125, 133, 145, 149]\n",
            "\n",
            "Numbers in descending order: [149, 145, 133, 125, 118, 118, 106, 75, 74, 67, 60, 55]\n",
            "\n",
            "Average of the entire group: 102.08\n",
            "\n",
            "Average of the first 6 numbers (ascending): 72.83\n",
            "Average of the first 6 numbers (descending): 131.33\n"
          ]
        }
      ],
      "source": [
        "# Write code for each of the sub parts with proper comments.\n",
        "#importing the 'random' module for generating random numbers using the 'random' function:\n",
        "import random\n",
        "\n",
        "# (a) This Generates a sequence of 12 random numbers within the range of 50 to 150\n",
        "random_numbers = [random.randint(50, 150) for _ in range(12)] #assigned random numbers to the variable \"random_numbers\" using the \"randint\" function\n",
        "print(\"Generated random numbers:\", random_numbers) #printing the generated random numbers\n",
        "\n",
        "# (b) Arrange the generated numbers in ascending order\n",
        "sorted_ascending = sorted(random_numbers) #Sorting the generated numbers in ascending order using the \"sorted\" function\n",
        "print(\"\\nNumbers in ascending order:\", sorted_ascending) #printing the numbers in ascending order\n",
        "\n",
        "# (c) Arrange the numbers in descending order\n",
        "sorted_descending = sorted(random_numbers, reverse=True) #Sorting the generated numbers in descending order using the \"sorted\" function, the parameter \"reverse\" is given \"True\" so that the numbers will be reversed, after soring them in ascending order.\n",
        "print(\"\\nNumbers in descending order:\", sorted_descending) #printing the numbers in descending order\n",
        "\n",
        "# (d) Compute and output the average of the entire group of generated numbers\n",
        "average_total = sum(random_numbers) / len(random_numbers) #First calculating the sum of numbers and diving them with the length gives us the average\n",
        "print(\"\\nAverage of the entire group:\", round(average_total, 2)) #printing the average of numbers\n",
        "\n",
        "# (e) Calculate and display the average of the first 6 numbers in both ascending and descending lists\n",
        "average_first_6_ascending = sum(sorted_ascending[:6]) / 6 #this gives us the average of first six numbers is ascending order\n",
        "average_first_6_descending = sum(sorted_descending[:6]) / 6 #this gives us the average of first six numbers is descending order\n",
        "print(\"\\nAverage of the first 6 numbers (ascending):\", round(average_first_6_ascending, 2)) #printing the average of first six numbers in ascending order\n",
        "print(\"Average of the first 6 numbers (descending):\", round(average_first_6_descending, 2)) #printing the average of first six numbers in descending order\n",
        "\n"
      ]
    },
    {
      "cell_type": "markdown",
      "metadata": {
        "id": "1F_PZdH9Sh49"
      },
      "source": [
        "# Question 3 (20 points).\n",
        "\n",
        "Create a Python program that encompasses various string manipulation task:\n",
        "\n",
        "(a) Prompt the user to input two sentences.\n",
        "\n",
        "(b) Transform each sentence into a list, where each element corresponds to a word in the sentence. For example, if the sentences are \"Hello, how are you doing today?\" and \"This is an example sentence for the program!\"\n",
        "\n",
        "The program should output:\n",
        "['Hello', ',', 'how', 'are', 'you', 'doing', 'today', '?', 'This', 'is', 'an', 'example', 'sentence', 'for', 'the', 'program', '!']\n",
        "\n",
        "(c) Compare the two sentences. Print out a list of words that occur in both sentences.\n",
        "\n",
        "(d) Remove any punctuation from the sentence and print the sanitized sentences. It should remove at least the following characters, but it can remove more: period(“.”), comma (“,”), semicolon (“;”), and colon (“:”).\n",
        "\n",
        "(e) Count the number of vowels in each of the sentences. Print out each vowel and the occurrences  in the each of the two sentences separately, such as:\n",
        "\n",
        "Sentence1: a:2, e:2, i:0, etc.\n",
        "Sentence2: a:1, e:2, i:2, etc.\n",
        "\n",
        "Design a well-structured Python program to execute these tasks efficiently."
      ]
    },
    {
      "cell_type": "code",
      "execution_count": 3,
      "metadata": {
        "id": "Y0oOSlsOS0cq",
        "colab": {
          "base_uri": "https://localhost:8080/"
        },
        "outputId": "09027221-bd08-4637-f496-beab4cb8251d"
      },
      "outputs": [
        {
          "output_type": "stream",
          "name": "stdout",
          "text": [
            "Enter the first sentence: My name Bhavya Madhuri!!\n",
            "Enter the second sentence: my last name is Devarakonda\n",
            "\n",
            "Combined word list from both sentences:\n",
            "['My', 'name', 'Bhavya', 'Madhuri!!', 'my', 'last', 'name', 'is', 'Devarakonda']\n",
            "\n",
            "Common words between both sentences:\n",
            "['name']\n",
            "\n",
            "Sanitized Sentence 1 (punctuation removed):\n",
            "My name Bhavya Madhuri\n",
            "Sanitized Sentence 2 (punctuation removed):\n",
            "my last name is Devarakonda\n",
            "\n",
            "Vowel count for Sentence 1:\n",
            "a: 4\n",
            "e: 1\n",
            "i: 1\n",
            "o: 0\n",
            "u: 1\n",
            "\n",
            "Vowel count for Sentence 2:\n",
            "a: 5\n",
            "e: 2\n",
            "i: 1\n",
            "o: 1\n",
            "u: 0\n"
          ]
        }
      ],
      "source": [
        "# Your code here\n",
        "\n",
        "# Your code here\n",
        "import string #This line of code imports the string module\n",
        "\n",
        "# (a) Prompt the user to input two sentences\n",
        "sentence1 = input(\"Enter the first sentence: \") #This line inputs the first sentence\n",
        "sentence2 = input(\"Enter the second sentence: \") #This line inputs the second sentence\n",
        "\n",
        "# (b) Transform each sentence into a list of words, including punctuation as separate elements\n",
        "sentence1_list = sentence1.split()# The split function seperates the elemenents in a sentence\n",
        "sentence2_list = sentence2.split()\n",
        "\n",
        "# Combine both lists into a single list to show as output\n",
        "combined_sentence_list = sentence1_list + sentence2_list #Adding both the sentences to show as a single sentence.\n",
        "print(\"\\nCombined word list from both sentences:\")\n",
        "print(combined_sentence_list) #this line prints the combined sentences\n",
        "\n",
        "# (c) Compare the two sentences and find common words\n",
        "common_words = set(sentence1_list) & set(sentence2_list) #This finds the common words using the '&' and gives the results in the form of sets\n",
        "print(\"\\nCommon words between both sentences:\")\n",
        "print(list(common_words)) #prints the common words as a list\n",
        "\n",
        "# (d) Remove any punctuation from both sentences\n",
        "def remove_punctuation(sentence):  #defining a function for future use for removing the punctuation\n",
        "    return sentence.translate(str.maketrans(\"\", \"\", string.punctuation)) #maketrans uses a translation table and translate method removes all the punctuations. The first argument means no characters are being mapped to anything else\n",
        "\n",
        "sentence1_sanitized = remove_punctuation(sentence1) #removes punctuation from sentence 1\n",
        "sentence2_sanitized = remove_punctuation(sentence2)  #removes punctuation from sentence 1\n",
        "print(\"\\nSanitized Sentence 1 (punctuation removed):\")\n",
        "print(sentence1_sanitized) #prints the sanitized sentence 1\n",
        "print(\"Sanitized Sentence 2 (punctuation removed):\")\n",
        "print(sentence2_sanitized) #prints the sanitized sentence 2\n",
        "\n",
        "# (e) Count the number of vowels in each sentence\n",
        "def count_vowels(sentence):  #defining a function for counting the number of vowels in each sentence\n",
        "    vowels = \"aeiouAEIOU\"\n",
        "    vowel_count = {vowel: 0 for vowel in vowels.lower()} #using for loop and adding number of vowels in the sentence\n",
        "    for char in sentence:\n",
        "        if char.lower() in vowels:\n",
        "            vowel_count[char.lower()] += 1\n",
        "    return vowel_count   #returns the number of vowels to the function count_vowels as output parameter\n",
        "\n",
        "vowels_sentence1 = count_vowels(sentence1_sanitized) #using the function defined to the count the number of vowels in sentence1_sanitized\n",
        "vowels_sentence2 = count_vowels(sentence2_sanitized) #using the function defined to the count the number of vowels in sentence2_sanitized\n",
        "\n",
        "# Print vowel counts for both sentences\n",
        "print(\"\\nVowel count for Sentence 1:\")\n",
        "for vowel, count in vowels_sentence1.items():\n",
        "    print(f\"{vowel}: {count}\") #prints the vowels and their corresponding counts in Sentence 1 with the help of formatting\n",
        "\n",
        "print(\"\\nVowel count for Sentence 2:\")\n",
        "for vowel, count in vowels_sentence2.items():\n",
        "    print(f\"{vowel}: {count}\") #prints the vowels and their corresponding counts in Sentence 2 with the help of formatting"
      ]
    },
    {
      "cell_type": "markdown",
      "source": [
        "# Question 4 (20 Points)"
      ],
      "metadata": {
        "id": "OP4-5qxAtInv"
      }
    },
    {
      "cell_type": "markdown",
      "source": [
        "Design and implement a simple command-line calculator program. The program should handle both integers and floating-point numbers.\n",
        "\n",
        "(a) Write program that takes a mathematical expression as input and evaluates it. The program should support addition, subtraction, multiplication, and division.\n",
        "\n",
        "(b) Extend the calculator to handle parentheses in mathematical expressions. Implement the necessary logic to evaluate expressions with nested parentheses.\n",
        "\n",
        "(c) Enhance your calculator to include additional mathematical operations such as exponentiation, square root, and modulus.\n",
        "\n",
        "(d) Implement error handling in the calculator program. Handle cases such as division by zero and invalid input expressions. Provide meaningful error messages.\n",
        "\n",
        "(e) Implement a command to exit the calculator."
      ],
      "metadata": {
        "id": "uzN4_hDptK9U"
      }
    },
    {
      "cell_type": "code",
      "source": [
        "# Your code here\n",
        "import math #this line of code imports the math module\n",
        "\n",
        "#Defining a function to evaluate a given expression\n",
        "def evaluate_expression(expression):\n",
        "    try:      #using the expcetional handling techniques to get different results for different error types\n",
        "        # (a) and (b): Evaluate the mathematical expression\n",
        "        result = eval(expression)\n",
        "        return result\n",
        "    except (SyntaxError, NameError): # this print the error message when an invalid expression is entered like a syntax error\n",
        "        return \"Error: Invalid expression. Please check your input.\"\n",
        "    except ZeroDivisionError:   #this prints the below line when any given value is divided by zero\n",
        "        return \"Error: Division by zero is not allowed.\"\n",
        "    except Exception as e:\n",
        "        return f\"Error: {str(e)}\"\n",
        "\n",
        "#Defining a function for the calculator\n",
        "def run_calculator():\n",
        "    print(\"Welcome to the Command-line Calculator!\")\n",
        "    print(\"Supported operations: +, -, , /, * (exponentiation), % (modulus), sqrt()\")\n",
        "    print(\"You can use parentheses for grouping and type 'exit' to quit.\")\n",
        "\n",
        "#Using while loop as we can use the calculator as long as we want by continually running the program and we can stop by terminating the program once done by typing 'exit'\n",
        "    while True:\n",
        "        expression = input(\"\\nEnter a mathematical expression (or type 'exit' to quit): \").strip()\n",
        "\n",
        "        # (e) Command to exit the calculator\n",
        "        if expression.lower() == 'exit':\n",
        "            print(\"Exiting the calculator. Goodbye!\")\n",
        "            break\n",
        "\n",
        "        # (c) Support for square root function\n",
        "        expression = expression.replace('sqrt', 'math.sqrt')\n",
        "\n",
        "        # (a), (b), (c) Evaluate the expression\n",
        "        result = evaluate_expression(expression)\n",
        "\n",
        "        # Display the result\n",
        "        print(\"Result:\", result)\n",
        "\n",
        "# This is the main function from where the program will start running the calculatorand  and cannot be imported to another file\n",
        "if __name__ == \"__main__\":\n",
        "    run_calculator()"
      ],
      "metadata": {
        "id": "8nQnVxjJuYtu",
        "colab": {
          "base_uri": "https://localhost:8080/"
        },
        "outputId": "7d0c768d-2c95-421d-fea3-ce3eb24b82b0"
      },
      "execution_count": 5,
      "outputs": [
        {
          "output_type": "stream",
          "name": "stdout",
          "text": [
            "Welcome to the Command-line Calculator!\n",
            "Supported operations: +, -, , /, * (exponentiation), % (modulus), sqrt()\n",
            "You can use parentheses for grouping and type 'exit' to quit.\n",
            "\n",
            "Enter a mathematical expression (or type 'exit' to quit): 2+3\n",
            "Result: 5\n",
            "\n",
            "Enter a mathematical expression (or type 'exit' to quit): 2*6\n",
            "Result: 12\n",
            "\n",
            "Enter a mathematical expression (or type 'exit' to quit): exit\n",
            "Exiting the calculator. Goodbye!\n"
          ]
        }
      ]
    },
    {
      "cell_type": "markdown",
      "metadata": {
        "id": "z3tBE7E-Xn5X"
      },
      "source": [
        "# Question 5 (30 points).\n",
        "\n",
        "In the field of Data Science, data is often formatted as a comma-delimited (CSV) file, where each line in a file corresponds to a field's value. Refer to Chapter 9 (p. 106) for more information on comma-delimited files.\n",
        "\n",
        "To answer this question, you will need to download the file [Assignment1_denton_housing.csv](https://raw.githubusercontent.com/unt-iialab/info5731-spring2022/main/assignments/Assignment1_denton_housing.csv) included with this assignment. The file contains statistics about housing in the city of Denton from 2008 to 2014. Write a program to implement the following questions.\n",
        "\n",
        "(a) (5 pts) Calculate the difference in the number of Occupied Housing Units from year to year and print it. The difference must be calculated for the consecutive years such as 2008-2009, 2009-2010 etc. Finally, print the values in the ascending order.\n",
        "\n",
        "(b) (5 pts) For all the years, calculate the percentage of housing units which are vacant an occupied. Print the results in the following format:\n",
        "\n",
        "Year Vacant Housing Units Occupied Housing Units\n",
        "\n",
        "    2008  30%   70%                          \n",
        "\t2009 ----- -----\n",
        "\t2010 ----- -----\n",
        "    2011 ----- -----\n",
        "\t2012 ----- -----\n",
        "    2013 ----- -----\n",
        "\t2014 ----- -----\n",
        "  \n",
        "  \n",
        "\n",
        "(c) (10 pts) Calculate and print the valued and years in which the highest number of housing units were vacant and occupied. Print the results in the following format:  \n",
        "\n",
        "                              Year\tValue\n",
        "\tVacant Housing Units\t  -----   -----\n",
        "\tOccupied Housing Units\t-----   -----\n",
        "\n",
        "(d) (10 pts) Calculate the harmonic mean of the total housing units and print it out. You can find the information about harmonic mean here: https://ncalculators.com/statistics/harmonic-mean-calculator.htm"
      ]
    },
    {
      "cell_type": "code",
      "execution_count": 10,
      "metadata": {
        "id": "lqGYuHBhcsRH",
        "colab": {
          "base_uri": "https://localhost:8080/",
          "height": 382
        },
        "outputId": "c39b72d1-ae7e-440c-9aec-4f306da47cfa"
      },
      "outputs": [
        {
          "output_type": "error",
          "ename": "FileNotFoundError",
          "evalue": "[Errno 2] No such file or directory: '/Users/meghamshreddy/Desktop/Assignment1_denton_housing.csv'",
          "traceback": [
            "\u001b[0;31m---------------------------------------------------------------------------\u001b[0m",
            "\u001b[0;31mFileNotFoundError\u001b[0m                         Traceback (most recent call last)",
            "\u001b[0;32m<ipython-input-10-fb694523c67e>\u001b[0m in \u001b[0;36m<cell line: 78>\u001b[0;34m()\u001b[0m\n\u001b[1;32m     76\u001b[0m \u001b[0;34m\u001b[0m\u001b[0m\n\u001b[1;32m     77\u001b[0m \u001b[0;31m# Call the function\u001b[0m\u001b[0;34m\u001b[0m\u001b[0;34m\u001b[0m\u001b[0m\n\u001b[0;32m---> 78\u001b[0;31m \u001b[0mcalculate_occupied_housing_difference\u001b[0m\u001b[0;34m(\u001b[0m\u001b[0mfile_path\u001b[0m\u001b[0;34m)\u001b[0m\u001b[0;34m\u001b[0m\u001b[0;34m\u001b[0m\u001b[0m\n\u001b[0m\u001b[1;32m     79\u001b[0m \u001b[0;34m\u001b[0m\u001b[0m\n\u001b[1;32m     80\u001b[0m \u001b[0;31m# Call the function\u001b[0m\u001b[0;34m\u001b[0m\u001b[0;34m\u001b[0m\u001b[0m\n",
            "\u001b[0;32m<ipython-input-10-fb694523c67e>\u001b[0m in \u001b[0;36mcalculate_occupied_housing_difference\u001b[0;34m(file_path)\u001b[0m\n\u001b[1;32m      6\u001b[0m \u001b[0;32mdef\u001b[0m \u001b[0mcalculate_occupied_housing_difference\u001b[0m\u001b[0;34m(\u001b[0m\u001b[0mfile_path\u001b[0m\u001b[0;34m)\u001b[0m\u001b[0;34m:\u001b[0m\u001b[0;34m\u001b[0m\u001b[0;34m\u001b[0m\u001b[0m\n\u001b[1;32m      7\u001b[0m \u001b[0;34m\u001b[0m\u001b[0m\n\u001b[0;32m----> 8\u001b[0;31m    \u001b[0mdf\u001b[0m \u001b[0;34m=\u001b[0m \u001b[0mpd\u001b[0m\u001b[0;34m.\u001b[0m\u001b[0mread_csv\u001b[0m\u001b[0;34m(\u001b[0m\u001b[0mfile_path\u001b[0m\u001b[0;34m)\u001b[0m\u001b[0;34m\u001b[0m\u001b[0;34m\u001b[0m\u001b[0m\n\u001b[0m\u001b[1;32m      9\u001b[0m \u001b[0;34m\u001b[0m\u001b[0m\n\u001b[1;32m     10\u001b[0m    \u001b[0moccupied_df\u001b[0m \u001b[0;34m=\u001b[0m \u001b[0mdf\u001b[0m\u001b[0;34m[\u001b[0m\u001b[0mdf\u001b[0m\u001b[0;34m[\u001b[0m\u001b[0;34m'title_field'\u001b[0m\u001b[0;34m]\u001b[0m \u001b[0;34m==\u001b[0m \u001b[0;34m'Occupied Housing Units'\u001b[0m\u001b[0;34m]\u001b[0m\u001b[0;34m\u001b[0m\u001b[0;34m\u001b[0m\u001b[0m\n",
            "\u001b[0;32m/usr/local/lib/python3.10/dist-packages/pandas/io/parsers/readers.py\u001b[0m in \u001b[0;36mread_csv\u001b[0;34m(filepath_or_buffer, sep, delimiter, header, names, index_col, usecols, dtype, engine, converters, true_values, false_values, skipinitialspace, skiprows, skipfooter, nrows, na_values, keep_default_na, na_filter, verbose, skip_blank_lines, parse_dates, infer_datetime_format, keep_date_col, date_parser, date_format, dayfirst, cache_dates, iterator, chunksize, compression, thousands, decimal, lineterminator, quotechar, quoting, doublequote, escapechar, comment, encoding, encoding_errors, dialect, on_bad_lines, delim_whitespace, low_memory, memory_map, float_precision, storage_options, dtype_backend)\u001b[0m\n\u001b[1;32m    946\u001b[0m     \u001b[0mkwds\u001b[0m\u001b[0;34m.\u001b[0m\u001b[0mupdate\u001b[0m\u001b[0;34m(\u001b[0m\u001b[0mkwds_defaults\u001b[0m\u001b[0;34m)\u001b[0m\u001b[0;34m\u001b[0m\u001b[0;34m\u001b[0m\u001b[0m\n\u001b[1;32m    947\u001b[0m \u001b[0;34m\u001b[0m\u001b[0m\n\u001b[0;32m--> 948\u001b[0;31m     \u001b[0;32mreturn\u001b[0m \u001b[0m_read\u001b[0m\u001b[0;34m(\u001b[0m\u001b[0mfilepath_or_buffer\u001b[0m\u001b[0;34m,\u001b[0m \u001b[0mkwds\u001b[0m\u001b[0;34m)\u001b[0m\u001b[0;34m\u001b[0m\u001b[0;34m\u001b[0m\u001b[0m\n\u001b[0m\u001b[1;32m    949\u001b[0m \u001b[0;34m\u001b[0m\u001b[0m\n\u001b[1;32m    950\u001b[0m \u001b[0;34m\u001b[0m\u001b[0m\n",
            "\u001b[0;32m/usr/local/lib/python3.10/dist-packages/pandas/io/parsers/readers.py\u001b[0m in \u001b[0;36m_read\u001b[0;34m(filepath_or_buffer, kwds)\u001b[0m\n\u001b[1;32m    609\u001b[0m \u001b[0;34m\u001b[0m\u001b[0m\n\u001b[1;32m    610\u001b[0m     \u001b[0;31m# Create the parser.\u001b[0m\u001b[0;34m\u001b[0m\u001b[0;34m\u001b[0m\u001b[0m\n\u001b[0;32m--> 611\u001b[0;31m     \u001b[0mparser\u001b[0m \u001b[0;34m=\u001b[0m \u001b[0mTextFileReader\u001b[0m\u001b[0;34m(\u001b[0m\u001b[0mfilepath_or_buffer\u001b[0m\u001b[0;34m,\u001b[0m \u001b[0;34m**\u001b[0m\u001b[0mkwds\u001b[0m\u001b[0;34m)\u001b[0m\u001b[0;34m\u001b[0m\u001b[0;34m\u001b[0m\u001b[0m\n\u001b[0m\u001b[1;32m    612\u001b[0m \u001b[0;34m\u001b[0m\u001b[0m\n\u001b[1;32m    613\u001b[0m     \u001b[0;32mif\u001b[0m \u001b[0mchunksize\u001b[0m \u001b[0;32mor\u001b[0m \u001b[0miterator\u001b[0m\u001b[0;34m:\u001b[0m\u001b[0;34m\u001b[0m\u001b[0;34m\u001b[0m\u001b[0m\n",
            "\u001b[0;32m/usr/local/lib/python3.10/dist-packages/pandas/io/parsers/readers.py\u001b[0m in \u001b[0;36m__init__\u001b[0;34m(self, f, engine, **kwds)\u001b[0m\n\u001b[1;32m   1446\u001b[0m \u001b[0;34m\u001b[0m\u001b[0m\n\u001b[1;32m   1447\u001b[0m         \u001b[0mself\u001b[0m\u001b[0;34m.\u001b[0m\u001b[0mhandles\u001b[0m\u001b[0;34m:\u001b[0m \u001b[0mIOHandles\u001b[0m \u001b[0;34m|\u001b[0m \u001b[0;32mNone\u001b[0m \u001b[0;34m=\u001b[0m \u001b[0;32mNone\u001b[0m\u001b[0;34m\u001b[0m\u001b[0;34m\u001b[0m\u001b[0m\n\u001b[0;32m-> 1448\u001b[0;31m         \u001b[0mself\u001b[0m\u001b[0;34m.\u001b[0m\u001b[0m_engine\u001b[0m \u001b[0;34m=\u001b[0m \u001b[0mself\u001b[0m\u001b[0;34m.\u001b[0m\u001b[0m_make_engine\u001b[0m\u001b[0;34m(\u001b[0m\u001b[0mf\u001b[0m\u001b[0;34m,\u001b[0m \u001b[0mself\u001b[0m\u001b[0;34m.\u001b[0m\u001b[0mengine\u001b[0m\u001b[0;34m)\u001b[0m\u001b[0;34m\u001b[0m\u001b[0;34m\u001b[0m\u001b[0m\n\u001b[0m\u001b[1;32m   1449\u001b[0m \u001b[0;34m\u001b[0m\u001b[0m\n\u001b[1;32m   1450\u001b[0m     \u001b[0;32mdef\u001b[0m \u001b[0mclose\u001b[0m\u001b[0;34m(\u001b[0m\u001b[0mself\u001b[0m\u001b[0;34m)\u001b[0m \u001b[0;34m->\u001b[0m \u001b[0;32mNone\u001b[0m\u001b[0;34m:\u001b[0m\u001b[0;34m\u001b[0m\u001b[0;34m\u001b[0m\u001b[0m\n",
            "\u001b[0;32m/usr/local/lib/python3.10/dist-packages/pandas/io/parsers/readers.py\u001b[0m in \u001b[0;36m_make_engine\u001b[0;34m(self, f, engine)\u001b[0m\n\u001b[1;32m   1703\u001b[0m                 \u001b[0;32mif\u001b[0m \u001b[0;34m\"b\"\u001b[0m \u001b[0;32mnot\u001b[0m \u001b[0;32min\u001b[0m \u001b[0mmode\u001b[0m\u001b[0;34m:\u001b[0m\u001b[0;34m\u001b[0m\u001b[0;34m\u001b[0m\u001b[0m\n\u001b[1;32m   1704\u001b[0m                     \u001b[0mmode\u001b[0m \u001b[0;34m+=\u001b[0m \u001b[0;34m\"b\"\u001b[0m\u001b[0;34m\u001b[0m\u001b[0;34m\u001b[0m\u001b[0m\n\u001b[0;32m-> 1705\u001b[0;31m             self.handles = get_handle(\n\u001b[0m\u001b[1;32m   1706\u001b[0m                 \u001b[0mf\u001b[0m\u001b[0;34m,\u001b[0m\u001b[0;34m\u001b[0m\u001b[0;34m\u001b[0m\u001b[0m\n\u001b[1;32m   1707\u001b[0m                 \u001b[0mmode\u001b[0m\u001b[0;34m,\u001b[0m\u001b[0;34m\u001b[0m\u001b[0;34m\u001b[0m\u001b[0m\n",
            "\u001b[0;32m/usr/local/lib/python3.10/dist-packages/pandas/io/common.py\u001b[0m in \u001b[0;36mget_handle\u001b[0;34m(path_or_buf, mode, encoding, compression, memory_map, is_text, errors, storage_options)\u001b[0m\n\u001b[1;32m    861\u001b[0m         \u001b[0;32mif\u001b[0m \u001b[0mioargs\u001b[0m\u001b[0;34m.\u001b[0m\u001b[0mencoding\u001b[0m \u001b[0;32mand\u001b[0m \u001b[0;34m\"b\"\u001b[0m \u001b[0;32mnot\u001b[0m \u001b[0;32min\u001b[0m \u001b[0mioargs\u001b[0m\u001b[0;34m.\u001b[0m\u001b[0mmode\u001b[0m\u001b[0;34m:\u001b[0m\u001b[0;34m\u001b[0m\u001b[0;34m\u001b[0m\u001b[0m\n\u001b[1;32m    862\u001b[0m             \u001b[0;31m# Encoding\u001b[0m\u001b[0;34m\u001b[0m\u001b[0;34m\u001b[0m\u001b[0m\n\u001b[0;32m--> 863\u001b[0;31m             handle = open(\n\u001b[0m\u001b[1;32m    864\u001b[0m                 \u001b[0mhandle\u001b[0m\u001b[0;34m,\u001b[0m\u001b[0;34m\u001b[0m\u001b[0;34m\u001b[0m\u001b[0m\n\u001b[1;32m    865\u001b[0m                 \u001b[0mioargs\u001b[0m\u001b[0;34m.\u001b[0m\u001b[0mmode\u001b[0m\u001b[0;34m,\u001b[0m\u001b[0;34m\u001b[0m\u001b[0;34m\u001b[0m\u001b[0m\n",
            "\u001b[0;31mFileNotFoundError\u001b[0m: [Errno 2] No such file or directory: '/Users/meghamshreddy/Desktop/Assignment1_denton_housing.csv'"
          ]
        }
      ],
      "source": [
        " # Your code here\n",
        "\n",
        "import pandas as pd\n",
        "\n",
        "# (A)\n",
        "def calculate_occupied_housing_difference(file_path):\n",
        "\n",
        "    df = pd.read_csv(file_path)\n",
        "\n",
        "    occupied_df = df[df['title_field'] == 'Occupied Housing Units']\n",
        "\n",
        "    occupied_df = occupied_df.sort_values(by='year')\n",
        "\n",
        "    occupied_df['Difference'] = occupied_df['value'].diff()\n",
        "\n",
        "    occupied_df = occupied_df.dropna(subset=['Difference'])\n",
        "\n",
        "    sorted_diff_df = occupied_df[['year', 'Difference']].sort_values(by='Difference')\n",
        "\n",
        "    print(\"Year-to-Year Differences in Occupied Housing Units (sorted in ascending order):\")\n",
        "    print(sorted_diff_df)\n",
        "\n",
        "import pandas as pd\n",
        "from scipy.stats import hmean\n",
        "\n",
        "# Parts (b,c,d)\n",
        "def housing_stats(file_path):\n",
        "\n",
        "    df = pd.read_csv(file_path)\n",
        "\n",
        "    # Part (b)\n",
        "    total_df = df[df['title_field'] == 'Total Housing Units']\n",
        "    occupied_df = df[df['title_field'] == 'Occupied Housing Units']\n",
        "    vacant_df = df[df['title_field'] == 'Vacant Housing Units']\n",
        "\n",
        "    percentages = []\n",
        "    for year in total_df['year'].unique():\n",
        "        total_units = total_df[total_df['year'] == year]['value'].values[0]\n",
        "        occupied_units = occupied_df[occupied_df['year'] == year]['value'].values[0]\n",
        "        vacant_units = vacant_df[vacant_df['year'] == year]['value'].values[0]\n",
        "\n",
        "        occupied_percent = (occupied_units / total_units) * 100\n",
        "        vacant_percent = (vacant_units / total_units) * 100\n",
        "\n",
        "        percentages.append((year, vacant_percent, occupied_percent))\n",
        "\n",
        "    print(\"Year Vacant Housing Units Occupied Housing Units\")\n",
        "    for year, vacant, occupied in percentages:\n",
        "        print(f\"{year}  {vacant:.2f}%   {occupied:.2f}%\")\n",
        "\n",
        "    # Part (c)\n",
        "    max_vacant_year = vacant_df.loc[vacant_df['value'].idxmax()]['year']\n",
        "    max_vacant_value = vacant_df['value'].max()\n",
        "\n",
        "    max_occupied_year = occupied_df.loc[occupied_df['value'].idxmax()]['year']\n",
        "    max_occupied_value = occupied_df['value'].max()\n",
        "\n",
        "    print(\"\\n                              Year     Value\")\n",
        "    print(f\"Vacant Housing Units      {max_vacant_year}   {max_vacant_value}\")\n",
        "    print(f\"Occupied Housing Units    {max_occupied_year}   {max_occupied_value}\")\n",
        "\n",
        "    # Part (d)\n",
        "    total_units = total_df['value'].values\n",
        "    harmonic_mean = hmean(total_units)\n",
        "\n",
        "    print(f\"\\nHarmonic Mean of Total Housing Units: {harmonic_mean:.2f}\")\n",
        "\n",
        "\n",
        "\n",
        "\n",
        "\n",
        "# File path to the CSV file\n",
        "file_path = '/Users/meghamshreddy/Desktop/Assignment1_denton_housing.csv'  # Replace with your actual file path\n",
        "\n",
        "\n",
        "\n",
        "# Call the function\n",
        "calculate_occupied_housing_difference(file_path)\n",
        "\n",
        "# Call the function\n",
        "housing_stats(file_path)\n"
      ]
    },
    {
      "cell_type": "markdown",
      "source": [
        "# Mandatory Question\n",
        "\n",
        "Provide your thoughts on the assignment. What did you find challenging, and what aspects did you enjoy? Your opinion on the provided time to complete the assignment. Share any suggestions for improvement. Your feedback will be valuable for enhancing the learning experience."
      ],
      "metadata": {
        "id": "q8BFCvWp32cf"
      }
    },
    {
      "cell_type": "code",
      "source": [
        "# Write your response below"
      ],
      "metadata": {
        "id": "_e557s2w4BpK"
      },
      "execution_count": null,
      "outputs": []
    }
  ],
  "metadata": {
    "colab": {
      "provenance": [],
      "include_colab_link": true
    },
    "kernelspec": {
      "display_name": "Python 3 (ipykernel)",
      "language": "python",
      "name": "python3"
    },
    "language_info": {
      "codemirror_mode": {
        "name": "ipython",
        "version": 3
      },
      "file_extension": ".py",
      "mimetype": "text/x-python",
      "name": "python",
      "nbconvert_exporter": "python",
      "pygments_lexer": "ipython3",
      "version": "3.9.12"
    }
  },
  "nbformat": 4,
  "nbformat_minor": 0
}