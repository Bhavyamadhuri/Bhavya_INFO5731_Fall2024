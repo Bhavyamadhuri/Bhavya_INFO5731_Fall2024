{
  "cells": [
    {
      "cell_type": "markdown",
      "metadata": {
        "id": "view-in-github",
        "colab_type": "text"
      },
      "source": [
        "<a href=\"https://colab.research.google.com/github/Bhavyamadhuri/Bhavya_INFO5731_Fall2024/blob/main/Bhavya_Devarakonda_Exercise_1.ipynb\" target=\"_parent\"><img src=\"https://colab.research.google.com/assets/colab-badge.svg\" alt=\"Open In Colab\"/></a>"
      ]
    },
    {
      "cell_type": "markdown",
      "metadata": {
        "id": "DymRJbxDBCnf"
      },
      "source": [
        "# **INFO5731 Exercise 1**\n",
        "\n",
        "This exercise covers a variety of fundamental concepts in Python and is designed to help students improve their coding skills and problem-solving abilities.\n",
        "\n",
        "**Expectations**:\n",
        "*   Students are expected to complete the exercise during lecture period to meet the active participation criteria of the course.\n",
        "*   Use the provided .*ipynb* document to write your code & respond to the questions. Avoid generating a new file.\n",
        "*   Write complete answers and run all the cells before submission.\n",
        "*   Make sure the submission is \"clean\"; *i.e.*, no unnecessary code cells.\n",
        "*   Once finished, allow shared rights from top right corner (*see Canvas for details*).\n",
        "\n",
        "**Total points**: 40\n",
        "\n",
        "**Deadline**: This in-class exercise is due at the end of the day tomorrow, at 11:59 PM.\n",
        "\n",
        "**Late submissions cannot be considered, and no requests will be answered. Manage your time accordingly.**\n"
      ]
    },
    {
      "cell_type": "markdown",
      "source": [
        "## Question 1\n",
        "Write a Python program that  prompts the user to input the length and width of a rectangle, and then calculates and displays the area of the rectangle."
      ],
      "metadata": {
        "id": "FBKvD6O_TY6e"
      }
    },
    {
      "cell_type": "code",
      "source": [
        "# write your answer here\n",
        "\n",
        "a = input(\"Enter the length of a rectangle \")\n",
        "b = input(\"Enter the width of a rectangle \")\n",
        "area = float(a) * float(b)\n",
        "print(\"Area of the rectangle\", area)"
      ],
      "metadata": {
        "id": "cikVKDXdTbzE",
        "colab": {
          "base_uri": "https://localhost:8080/"
        },
        "outputId": "927abff6-d411-4ecc-8f79-ea5dbab6a286"
      },
      "execution_count": null,
      "outputs": [
        {
          "output_type": "stream",
          "name": "stdout",
          "text": [
            "Enter the length of a rectangle 5\n",
            "Enter the width of a rectangle 6\n",
            "Area of the rectangle 30.0\n"
          ]
        }
      ]
    },
    {
      "cell_type": "markdown",
      "source": [
        "## Question 2\n",
        "Create a Python program that interactively takes two numerical inputs from the user and swaps their values without utilizing an extra variable."
      ],
      "metadata": {
        "id": "E9RqrlwdTfvl"
      }
    },
    {
      "cell_type": "code",
      "source": [
        "# write your answer here\n",
        "\n",
        "a = float(input(\"Enter the first number \"))\n",
        "b = float(input(\"Enter the second number \"))\n",
        "print(f\"\\nBefore swapping a = {a}, b = {b}\")\n",
        "a,b = b,a\n",
        "print(f\"\\nAfter swapping a ={a} , b = {b}\")"
      ],
      "metadata": {
        "id": "4XvRknixTh1g",
        "colab": {
          "base_uri": "https://localhost:8080/"
        },
        "outputId": "555ca410-7973-4f54-d6ba-d17236b67649"
      },
      "execution_count": null,
      "outputs": [
        {
          "output_type": "stream",
          "name": "stdout",
          "text": [
            "Enter the first number 3\n",
            "Enter the second number 4\n",
            "\n",
            "Before swapping a = 3.0, b = 4.0\n",
            "\n",
            "After swapping a =4.0 , b = 3.0\n"
          ]
        }
      ]
    },
    {
      "cell_type": "markdown",
      "metadata": {
        "id": "03jb4GZsBkBS"
      },
      "source": [
        "## Question 3\n",
        "Write a Python script to determine and print the length of a user-input string."
      ]
    },
    {
      "cell_type": "code",
      "execution_count": null,
      "metadata": {
        "id": "YaGLbSHHB8Ej",
        "colab": {
          "base_uri": "https://localhost:8080/"
        },
        "outputId": "58f234e1-0bab-43bf-ccfa-f50b3ecdd7a7"
      },
      "outputs": [
        {
          "output_type": "stream",
          "name": "stdout",
          "text": [
            "Enter the string:fvjasgdvcjatsfdgkahvckua\n",
            "Length of the string is 24\n"
          ]
        }
      ],
      "source": [
        "# write your answer here\n",
        "string = input(\"Enter the string:\")\n",
        "length_of_string = len(string)\n",
        "print(f\"Length of the string is {length_of_string}\")"
      ]
    },
    {
      "cell_type": "markdown",
      "metadata": {
        "id": "jJDe71iLB616"
      },
      "source": [
        "## Question 4\n",
        "Construct a Python program that counts and displays the occurrences of each character in a given string.\n",
        "\n",
        "Sample String: 'openai.ai',\n",
        "\n",
        "Expected Result: {'a': 2, 'i': 2, '.': 1, 'o': 1, 'p': 1, 'e': 1, 'n': 1}"
      ]
    },
    {
      "cell_type": "code",
      "execution_count": null,
      "metadata": {
        "id": "MtKskTzbCLaU",
        "colab": {
          "base_uri": "https://localhost:8080/"
        },
        "outputId": "0b47ebb4-9c9b-4a7d-c876-7348a90856f3"
      },
      "outputs": [
        {
          "output_type": "stream",
          "name": "stdout",
          "text": [
            "Enter the string:my name is bhavya\n",
            "{'m': 2, 'y': 2, ' ': 3, 'n': 1, 'a': 3, 'e': 1, 'i': 1, 's': 1, 'b': 1, 'h': 1, 'v': 1}\n"
          ]
        }
      ],
      "source": [
        "# write your answer here\n",
        "\n",
        "string = input(\"Enter the string:\")\n",
        "count_of_characters = {}\n",
        "for i in string:\n",
        "    if i in count_of_characters:\n",
        "        count_of_characters[i] += 1\n",
        "    else:\n",
        "        count_of_characters[i] = 1\n",
        "\n",
        "print(count_of_characters)"
      ]
    },
    {
      "cell_type": "markdown",
      "metadata": {
        "id": "55W9AMdXCSpV"
      },
      "source": [
        "## Question 5\n",
        "Design a Python code to calculate the sum of all elements in a user-provided list."
      ]
    },
    {
      "cell_type": "code",
      "execution_count": null,
      "metadata": {
        "id": "I57NXsauCec2",
        "colab": {
          "base_uri": "https://localhost:8080/"
        },
        "outputId": "4f5f8063-ad97-4471-a13e-b0747574de50"
      },
      "outputs": [
        {
          "output_type": "stream",
          "name": "stdout",
          "text": [
            "Enter the numbers:4 5 6 7 8  8 8\n",
            "Sum of the list is 46\n"
          ]
        }
      ],
      "source": [
        "# write your answer here\n",
        "a = input(\"Enter the numbers:\")\n",
        "number_list = list(map(int, a.split()))\n",
        "sum_of_list = sum(number_list)\n",
        "print(f\"Sum of the list is {sum_of_list}\")"
      ]
    },
    {
      "cell_type": "markdown",
      "metadata": {
        "id": "4ulBZ6yhCi9F"
      },
      "source": [
        "## Question 6\n",
        "Write a Python program that modifies a given string by replacing all occurrences of its first character with '$', excluding the first character itself.\n",
        "\n",
        "\n",
        "Sample String : 'restart‘\n",
        "Expected Result : 'resta\\$t'"
      ]
    },
    {
      "cell_type": "code",
      "execution_count": null,
      "metadata": {
        "id": "Fj0XhwbBCw2o",
        "colab": {
          "base_uri": "https://localhost:8080/"
        },
        "outputId": "226fa190-2871-4898-a979-f1793be42079"
      },
      "outputs": [
        {
          "output_type": "stream",
          "name": "stdout",
          "text": [
            "Enter a string: restarter\n",
            "Updated string: resta$te$\n"
          ]
        }
      ],
      "source": [
        "# write your answer here\n",
        "string = input(\"Enter a string: \")\n",
        "\n",
        "\n",
        "if string:\n",
        "\n",
        "    first_character = string[0]\n",
        "    updated_string = first_character + string[1:].replace(first_character, '$')\n",
        "    print(f\"Updated string: {updated_string}\")\n",
        "else:\n",
        "    print(\"The string is empty.\")"
      ]
    },
    {
      "cell_type": "markdown",
      "source": [
        "## Question 7\n",
        "Write a Python program using a while loop to compute the factorial of a user-supplied number."
      ],
      "metadata": {
        "id": "qVXA3q7ET5JI"
      }
    },
    {
      "cell_type": "code",
      "source": [
        "# write your answer here\n",
        "a = int(input(\"Enter a integer to compute its factorial: \"))\n",
        "fact = 1\n",
        "c = a\n",
        "while c > 1:\n",
        "    fact *= c\n",
        "    c -= 1\n",
        "print(f\"The factorial of {a} is: {fact}\")\n",
        "\n"
      ],
      "metadata": {
        "id": "Lbt7R6UkT7BA",
        "colab": {
          "base_uri": "https://localhost:8080/"
        },
        "outputId": "8e521806-9284-445f-9682-ed02fcfa044c"
      },
      "execution_count": null,
      "outputs": [
        {
          "output_type": "stream",
          "name": "stdout",
          "text": [
            "Enter a integer to compute its factorial: 6\n",
            "The factorial of 6 is: 720\n"
          ]
        }
      ]
    },
    {
      "cell_type": "markdown",
      "source": [
        "## Question 8\n",
        "Create a program that accepts a list of numbers as input and outputs a new list containing only the even numbers."
      ],
      "metadata": {
        "id": "6YfbzXMNT--R"
      }
    },
    {
      "cell_type": "code",
      "source": [
        "# write your answer here\n",
        "# Prompt the user to enter a list of numbers, separated by spaces\n",
        "input = input(\"Enter a list of numbers \")\n",
        "\n",
        "# Convert the user input into a list of numbers (floats)\n",
        "list_number = list(map(float, input.split()))\n",
        "\n",
        "# Create a new list containing only the even numbers\n",
        "even_numbers_list = [num for num in list_number if num % 2 == 0]\n",
        "\n",
        "# Display the list of even numbers\n",
        "print(\"List of only even numbers:\", even_numbers_list)\n"
      ],
      "metadata": {
        "id": "54q7wMQPUAKu",
        "colab": {
          "base_uri": "https://localhost:8080/"
        },
        "outputId": "04dbd7f1-185d-4190-d164-dd79bc6bfa66"
      },
      "execution_count": null,
      "outputs": [
        {
          "output_type": "stream",
          "name": "stdout",
          "text": [
            "Enter a list of numbers 2 3 4 5 6 7 8 8 \n",
            "List of only even numbers: [2.0, 4.0, 6.0, 8.0, 8.0]\n"
          ]
        }
      ]
    },
    {
      "cell_type": "markdown",
      "metadata": {
        "id": "_bIP7s1MCzue"
      },
      "source": [
        "## Question 9\n",
        "Design a Python function to check if a number is prime.\n"
      ]
    },
    {
      "cell_type": "code",
      "source": [
        "# Taking input from the user\n",
        "num1 = (input(\"Enter a number: \"))\n",
        "num = int(num1)\n",
        "\n",
        "# Check if the number is prime\n",
        "if num > 1:\n",
        "    for i in range(2, num):\n",
        "        if (num % i) == 0:\n",
        "            print(f\"{num} is not a prime number.\")\n",
        "            break\n",
        "    else:\n",
        "        print(f\"{num} is a prime number.\")\n",
        "else:\n",
        "    print(f\"{num} is not a prime number.\")"
      ],
      "metadata": {
        "colab": {
          "base_uri": "https://localhost:8080/"
        },
        "id": "OYvchmheI8To",
        "outputId": "15f45942-198d-4c62-ae92-8487e852c064"
      },
      "execution_count": null,
      "outputs": [
        {
          "output_type": "stream",
          "name": "stdout",
          "text": [
            "Enter a number: 6\n",
            "6 is not a prime number.\n"
          ]
        }
      ]
    },
    {
      "cell_type": "markdown",
      "metadata": {
        "id": "xCa2bK9aD4Q3"
      },
      "source": [
        "## Question 10\n",
        "Write a Python program to concatenate following dictionaries to create a new one.\n",
        "\n",
        "Sample Dictionary : dic1={1:10, 2:20}, dic2={3:30, 4:40}, dic3={5:50,6:60},\n",
        "\n",
        "Expected Result : {1: 10, 2: 20, 3: 30, 4: 40, 5: 50, 6: 60}\n"
      ]
    },
    {
      "cell_type": "code",
      "execution_count": null,
      "metadata": {
        "id": "_z4aLqAbEET1",
        "colab": {
          "base_uri": "https://localhost:8080/"
        },
        "outputId": "38d25911-e51f-446e-b7a6-e639deec9dd2"
      },
      "outputs": [
        {
          "output_type": "stream",
          "name": "stdout",
          "text": [
            "Concatenated dictionary: {1: 10, 2: 20, 3: 30, 4: 40, 5: 50, 6: 60}\n"
          ]
        }
      ],
      "source": [
        "# write your answer here\n",
        "dict1 = {1:10, 2:20}\n",
        "dict2 = {3:30, 4:40}\n",
        "dict3 = {5:50, 6:60}\n",
        "concatenated_dictionary = {**dict1, **dict2, **dict3}\n",
        "print(\"Concatenated dictionary:\", concatenated_dictionary)"
      ]
    },
    {
      "cell_type": "markdown",
      "source": [
        "## Question 11\n",
        "Design a Python function that takes a tuple of integers as input and returns the largest and smallest elements."
      ],
      "metadata": {
        "id": "bkyZ2xSZUOst"
      }
    },
    {
      "cell_type": "code",
      "source": [
        "# write your answer here\n",
        "def find_largest_and_smallest(numbers):\n",
        "    if not numbers:\n",
        "        raise ValueError(\"The input tuple is empty.\")\n",
        "    smallest = min(numbers)\n",
        "    largest = max(numbers)\n",
        "\n",
        "    return (smallest, largest)\n",
        "num_tuple = (5, 1, 9, 3, 7)\n",
        "smallest, largest = find_largest_and_smallest(num_tuple)\n",
        "print(f\"Smallest element: {smallest}\")\n",
        "print(f\"Largest element: {largest}\")\n"
      ],
      "metadata": {
        "id": "3FdLRBKOUQEd",
        "colab": {
          "base_uri": "https://localhost:8080/"
        },
        "outputId": "bd8445cc-39b9-47e4-e1ee-89dc1e2adfbc"
      },
      "execution_count": null,
      "outputs": [
        {
          "output_type": "stream",
          "name": "stdout",
          "text": [
            "Smallest element: 1\n",
            "Largest element: 9\n"
          ]
        }
      ]
    },
    {
      "cell_type": "markdown",
      "source": [
        "## Question 12\n",
        "Write a Python program that counts the frequency of each character in a given string and stores it in a dictionary."
      ],
      "metadata": {
        "id": "O0TVi3gKUTpp"
      }
    },
    {
      "cell_type": "code",
      "source": [
        "# write your answer here\n",
        "# Function to count character frequency in a string\n",
        "def count_of_char_frequency(input_string):\n",
        "    # Initialize an empty dictionary\n",
        "    freqe_dict = {}\n",
        "\n",
        "    # Loop through each character in the string\n",
        "    for char in input_string:\n",
        "        # If the character is already in the dictionary, increment its count\n",
        "        if char in freqe_dict:\n",
        "            freqe_dict[char] += 1\n",
        "        else:\n",
        "            # Otherwise, add the character to the dictionary with a count of 1\n",
        "            freqe_dict[char] = 1\n",
        "\n",
        "    return freqe_dict\n",
        "\n",
        "# Input string from the user\n",
        "user_input = input(\"Enter a string: \")\n",
        "\n",
        "# Get the frequency dictionary\n",
        "fre = count_of_char_frequency(user_input)\n",
        "\n",
        "# Print the frequency of each character\n",
        "print(\"Character frequency:\")\n",
        "for char, count in fre.items():\n",
        "    print(f\"'{char}': {count}\")\n"
      ],
      "metadata": {
        "id": "lAtfSfZXUU-h",
        "colab": {
          "base_uri": "https://localhost:8080/"
        },
        "outputId": "0ec6c9bb-c00d-453d-bc30-5f92df612a94"
      },
      "execution_count": null,
      "outputs": [
        {
          "output_type": "stream",
          "name": "stdout",
          "text": [
            "Enter a string: my name is bhavya\n",
            "Character frequency:\n",
            "'m': 2\n",
            "'y': 2\n",
            "' ': 3\n",
            "'n': 1\n",
            "'a': 3\n",
            "'e': 1\n",
            "'i': 1\n",
            "'s': 1\n",
            "'b': 1\n",
            "'h': 1\n",
            "'v': 1\n"
          ]
        }
      ]
    },
    {
      "cell_type": "markdown",
      "metadata": {
        "id": "0v48Vqa7FrQh"
      },
      "source": [
        "## Question 13\n",
        "Implement a Python script to identify duplicate elements in a provided array of integers. Return -1 if there are no duplicates."
      ]
    },
    {
      "cell_type": "code",
      "execution_count": null,
      "metadata": {
        "id": "7WEmgq-DF2P1",
        "colab": {
          "base_uri": "https://localhost:8080/"
        },
        "outputId": "8adac7dd-dc7f-4c70-f83d-eb05864d9558"
      },
      "outputs": [
        {
          "output_type": "stream",
          "name": "stdout",
          "text": [
            "Enter integers separated by spaces: 1 2 3 4 2 \n",
            "Duplicate elements: [2]\n"
          ]
        }
      ],
      "source": [
        "# write your answer here\n",
        "# Function to find duplicates in an array\n",
        "def finding_duplicates(arr):\n",
        "    duplicates = []\n",
        "\n",
        "    # Iterate over the array and check for duplicates\n",
        "    for i in range(len(arr)):\n",
        "        for j in range(i + 1, len(arr)):\n",
        "            if arr[i] == arr[j] and arr[i] not in duplicates:\n",
        "                duplicates.append(arr[i])\n",
        "\n",
        "    # Return duplicates if found, otherwise return -1\n",
        "    if duplicates:\n",
        "        return duplicates\n",
        "    else:\n",
        "        return -1\n",
        "\n",
        "# Input array from the user\n",
        "arr1 = list(map(int, input(\"Enter integers separated by spaces: \").split()))\n",
        "\n",
        "# Find duplicates in the array\n",
        "results = finding_duplicates(arr1)\n",
        "\n",
        "# Print the result\n",
        "if results == -1:\n",
        "    print(\"No duplicates found.\")\n",
        "else:\n",
        "    print(f\"Duplicate elements: {results}\")\n"
      ]
    },
    {
      "cell_type": "markdown",
      "metadata": {
        "id": "vD5PYLMuGga_"
      },
      "source": [
        "## Question 14\n",
        "Write a Python script to find the common elements between two lists."
      ]
    },
    {
      "cell_type": "code",
      "execution_count": null,
      "metadata": {
        "id": "t0D5kdJUGjjw",
        "colab": {
          "base_uri": "https://localhost:8080/"
        },
        "outputId": "ee221d92-ce9b-4510-c8aa-e3c10f1d0200"
      },
      "outputs": [
        {
          "output_type": "stream",
          "name": "stdout",
          "text": [
            "Enter the elements of the first list separated by spaces: 1 2 3 4 5 6\n",
            "Enter the elements of the second list separated by spaces: 4 5 6 7 8 8\n",
            "Common elements: [4, 5, 6]\n"
          ]
        }
      ],
      "source": [
        "# write your answer here\n",
        "# Function to find common elements between two lists\n",
        "def finding_common_elements(list1, list2):\n",
        "    # Convert both lists to sets and find the intersection\n",
        "    common_elements = set(list1) & set(list2)\n",
        "\n",
        "    # Convert the result back to a list and return\n",
        "    return list(common_elements)\n",
        "\n",
        "# Input two lists from the user\n",
        "list1 = list(map(int, input(\"Enter the elements of the first list separated by spaces: \").split()))\n",
        "list2 = list(map(int, input(\"Enter the elements of the second list separated by spaces: \").split()))\n",
        "\n",
        "# Find common elements\n",
        "common = finding_common_elements(list1, list2)\n",
        "\n",
        "# Print the result\n",
        "if common:\n",
        "    print(f\"Common elements: {common}\")\n",
        "else:\n",
        "    print(\"No common elements found.\")\n"
      ]
    },
    {
      "cell_type": "markdown",
      "metadata": {
        "id": "uHkd-y5VhVWC"
      },
      "source": [
        "## Question 15\n",
        "Write a Python program to randomly divide the students in this class into maximum of eight groups for term projects, each group should have at least 4 students but no more than 6 students (including 6).\n",
        "\n",
        "Here is the students list:\n",
        "\n",
        "student_list_spring_2024=[rb0846,\n",
        "ac1964,\n",
        "hc0612,\n",
        "md0912,\n",
        "ad1198,\n",
        "md0894,\n",
        "md0825,\n",
        "vg0598,\n",
        "vg0433,\n",
        "mh1068,\n",
        "yj0173,\n",
        "pk0553,\n",
        "tk0411,\n",
        "srk0204,\n",
        "sk2922,\n",
        "sk2936,\n",
        "mk1302,\n",
        "mk1317,\n",
        "tk0412,\n",
        "vk0656,\n",
        "sm2985,\n",
        "mm2372,\n",
        "un0045,\n",
        "an0892,\n",
        "sn0913,\n",
        "gp0252,\n",
        "ap1484,\n",
        "mr1765,\n",
        "sr1385,\n",
        "sr1335,\n",
        "hs0665,\n",
        "ms2060,\n",
        "gt0217,\n",
        "nt0385,\n",
        "tv0186,\n",
        "sv1394,\n",
        "sv1752,\n",
        "sv1555,\n",
        "sy0594\n",
        "]\n"
      ]
    },
    {
      "cell_type": "code",
      "execution_count": null,
      "metadata": {
        "id": "3iGbmcOBhTwy",
        "colab": {
          "base_uri": "https://localhost:8080/"
        },
        "outputId": "177efb25-0f34-4e7a-8ac0-822c5229072e"
      },
      "outputs": [
        {
          "output_type": "stream",
          "name": "stdout",
          "text": [
            "Group 1: ['yj0173', 'srk0204', 'sn0913', 'an0892', 'nt0385', 'sv1752']\n",
            "Group 2: ['md0825', 'ac1964', 'ms2060', 'pk0553', 'ap1484']\n",
            "Group 3: ['md0912', 'tv0186', 'gt0217', 'hc0612', 'mh1068']\n",
            "Group 4: ['sk2936', 'vg0433', 'sv1555', 'sr1385', 'tk0412', 'sy0594']\n",
            "Group 5: ['un0045', 'sv1394', 'md0894', 'tk0411', 'vg0598', 'mk1302']\n",
            "Group 6: ['mm2372', 'gp0252', 'rb0846', 'sr1335', 'sk2922']\n",
            "Group 7: ['hs0665', 'mk1317', 'sm2985', 'vk0656', 'ad1198']\n",
            "Group 8: ['mr1765']\n"
          ]
        }
      ],
      "source": [
        "import random\n",
        "\n",
        "# List of students\n",
        "student_list_spring_2024 = [\n",
        "    'rb0846', 'ac1964', 'hc0612', 'md0912', 'ad1198', 'md0894', 'md0825', 'vg0598', 'vg0433', 'mh1068',\n",
        "    'yj0173', 'pk0553', 'tk0411', 'srk0204', 'sk2922', 'sk2936', 'mk1302', 'mk1317', 'tk0412', 'vk0656',\n",
        "    'sm2985', 'mm2372', 'un0045', 'an0892', 'sn0913', 'gp0252', 'ap1484', 'mr1765', 'sr1385', 'sr1335',\n",
        "    'hs0665', 'ms2060', 'gt0217', 'nt0385', 'tv0186', 'sv1394', 'sv1752', 'sv1555', 'sy0594'\n",
        "]\n",
        "\n",
        "# Function to divide students into groups\n",
        "def divide_into_groups(students, max_groups=8, min_group_size=4, max_group_size=6):\n",
        "    # Shuffle the list to ensure random distribution\n",
        "    random.shuffle(students)\n",
        "\n",
        "    # Initialize groups\n",
        "    groups = []\n",
        "\n",
        "    while len(students) > 0:\n",
        "        # Determine the size of the current group\n",
        "        group_size = random.randint(min_group_size, max_group_size)\n",
        "\n",
        "        # Adjust group size if there are too few students left\n",
        "        if len(students) < group_size:\n",
        "            group_size = len(students)\n",
        "\n",
        "        # Create the current group\n",
        "        group = students[:group_size]\n",
        "        groups.append(group)\n",
        "\n",
        "        # Remove the assigned students from the list\n",
        "        students = students[group_size:]\n",
        "\n",
        "        # Check if we've reached the maximum number of groups\n",
        "        if len(groups) >= max_groups:\n",
        "            break\n",
        "\n",
        "    # If there are students left, put them into the last group\n",
        "    if students:\n",
        "        groups[-1].extend(students)\n",
        "\n",
        "    return groups\n",
        "\n",
        "# Divide the students into groups\n",
        "groups = divide_into_groups(student_list_spring_2024)\n",
        "\n",
        "# Print the groups\n",
        "for i, group in enumerate(groups, start=1):\n",
        "    print(f\"Group {i}: {group}\")\n"
      ]
    },
    {
      "cell_type": "markdown",
      "metadata": {
        "id": "fmZ9vX20Qs3d"
      },
      "source": [
        "## Question 16\n",
        "Create a program that takes a positive integer 'n' as input and prints the count of even numbers from 1 to 'n'. Optimize the loop using the continue statement."
      ]
    },
    {
      "cell_type": "code",
      "execution_count": null,
      "metadata": {
        "id": "W8Jw6sWMQs3d",
        "colab": {
          "base_uri": "https://localhost:8080/"
        },
        "outputId": "5c45126b-f1b4-49c3-8ebd-740d38cb2cee"
      },
      "outputs": [
        {
          "output_type": "stream",
          "name": "stdout",
          "text": [
            "Enter a positive integer: 8\n",
            "Count of even numbers from 1 to 8: 4\n"
          ]
        }
      ],
      "source": [
        "# write your answer here\n",
        "# Function to count even numbers from 1 to n\n",
        "def count_of_even_numbers(n):\n",
        "    count = 0\n",
        "    for i in range(1, n + 1):\n",
        "        if i % 2 != 0:\n",
        "            continue  # Skip odd numbers\n",
        "        count += 1\n",
        "    return count\n",
        "\n",
        "# Input positive integer n from the user\n",
        "try:\n",
        "    n = int(input(\"Enter a positive integer: \"))\n",
        "    if n <= 0:\n",
        "        raise ValueError(\"The number must be positive.\")\n",
        "except ValueError as ve:\n",
        "    print(ve)\n",
        "else:\n",
        "    # Get the count of even numbers and print the result\n",
        "    even_count = count_of_even_numbers(n)\n",
        "    print(f\"Count of even numbers from 1 to {n}: {even_count}\")\n"
      ]
    },
    {
      "cell_type": "markdown",
      "metadata": {
        "id": "hvq4APMhQs3d"
      },
      "source": [
        "## Question 17\n",
        "Develop a Python function called 'count_vowels' that takes a string as input and returns the count of vowels (both lowercase and uppercase) present in the string, ignoring spaces and non-alphabetic characters."
      ]
    },
    {
      "cell_type": "code",
      "execution_count": null,
      "metadata": {
        "id": "ZnoxhSglQs3d",
        "colab": {
          "base_uri": "https://localhost:8080/"
        },
        "outputId": "6ffcf444-207d-4f40-dcb1-3e1cc5621504"
      },
      "outputs": [
        {
          "output_type": "stream",
          "name": "stdout",
          "text": [
            "Enter a string: aaeenn\n",
            "Number of vowels in the string: 4\n"
          ]
        }
      ],
      "source": [
        "# write your answer here\n",
        "def count_of_vowels(input_string):\n",
        "    # Define the set of vowels\n",
        "    vowels = 'aeiouAEIOU'\n",
        "\n",
        "    # Initialize the count\n",
        "    vowel_counts = 0\n",
        "\n",
        "    # Loop through each character in the string\n",
        "    for char in input_string:\n",
        "        # Check if the character is a vowel\n",
        "        if char in vowels:\n",
        "            vowel_counts += 1\n",
        "\n",
        "    return vowel_counts\n",
        "\n",
        "# Example usage\n",
        "input_strings = input(\"Enter a string: \")\n",
        "vowels_count = count_of_vowels(input_strings)\n",
        "print(f\"Number of vowels in the string: {vowels_count}\")\n"
      ]
    },
    {
      "cell_type": "markdown",
      "source": [
        "## Question 18\n",
        "Create a custom exception named ValueTooSmallError in Python. Write a program that takes user input for an age, and if the entered age is less than 18, raise the ValueTooSmallError with an appropriate error message."
      ],
      "metadata": {
        "id": "55FWoSJPVVM6"
      }
    },
    {
      "cell_type": "code",
      "source": [
        "# write your answer here\n",
        "# Define a custom exception\n",
        "class ValueTooSmallError(Exception):\n",
        "    def __init__(self, message=\"The age entered is too small. Must be 18 or older.\"):\n",
        "        self.message = message\n",
        "        super().__init__(self.message)\n",
        "\n",
        "# Function to check age\n",
        "def check_age(age):\n",
        "    if age < 18:\n",
        "        raise ValueTooSmallError\n",
        "\n",
        "# Main program\n",
        "try:\n",
        "    # Take user input for age\n",
        "    age = int(input(\"Enter your age: \"))\n",
        "\n",
        "    # Check if the age is valid\n",
        "    check_age(age)\n",
        "\n",
        "    print(\"Age is valid. Proceeding...\")\n",
        "except ValueTooSmallError as e:\n",
        "    print(e)\n",
        "except ValueError:\n",
        "    print(\"Invalid input. Please enter a valid integer.\")\n"
      ],
      "metadata": {
        "id": "hwtr1wZmVX5A",
        "colab": {
          "base_uri": "https://localhost:8080/"
        },
        "outputId": "e88265e4-f4da-46e9-a823-24c67e0f45db"
      },
      "execution_count": null,
      "outputs": [
        {
          "output_type": "stream",
          "name": "stdout",
          "text": [
            "Enter your age: 17\n",
            "The age entered is too small. Must be 18 or older.\n"
          ]
        }
      ]
    },
    {
      "cell_type": "markdown",
      "source": [
        "## Question 19\n",
        "Develop a script that reverses a given string without using built-in reverse functions."
      ],
      "metadata": {
        "id": "Q9ecagcaVazW"
      }
    },
    {
      "cell_type": "code",
      "source": [
        "# write your answer here\n",
        "# Function to reverse a string\n",
        "def reverse_string(s):\n",
        "    reversed_str = ''\n",
        "    for char in s:\n",
        "        # Prepend each character to build the reversed string\n",
        "        reversed_str = char + reversed_str\n",
        "    return reversed_str\n",
        "\n",
        "# Main program\n",
        "input_string = input(\"Enter a string to reverse: \")\n",
        "reversed_string = reverse_string(input_string)\n",
        "print(f\"Reversed string: {reversed_string}\")\n"
      ],
      "metadata": {
        "id": "gycgckoAVZjR",
        "colab": {
          "base_uri": "https://localhost:8080/"
        },
        "outputId": "5bd8b7c8-da1d-4141-893a-f0503e2c0e31"
      },
      "execution_count": null,
      "outputs": [
        {
          "output_type": "stream",
          "name": "stdout",
          "text": [
            "Enter a string to reverse: stressed\n",
            "Reversed string: desserts\n"
          ]
        }
      ]
    },
    {
      "cell_type": "markdown",
      "source": [
        "## Question 20\n",
        "Implement a Python script to generate a random password of a specified length."
      ],
      "metadata": {
        "id": "ZFG6RibifMLu"
      }
    },
    {
      "cell_type": "code",
      "source": [
        "# write your answer here\n",
        "import random\n",
        "import string\n",
        "\n",
        "# Function to generate a random password\n",
        "def generate_password(length):\n",
        "    if length < 8:  # Minimum length for a secure password\n",
        "        raise ValueError(\"Password length should be at least 8 characters.\")\n",
        "\n",
        "    # Define character sets\n",
        "    lower = string.ascii_lowercase\n",
        "    upper = string.ascii_uppercase\n",
        "    digits = string.digits\n",
        "    special = string.punctuation\n",
        "\n",
        "    # Combine all character sets\n",
        "    all_characters = lower + upper + digits + special\n",
        "\n",
        "    # Generate the password\n",
        "    password = ''.join(random.choice(all_characters) for _ in range(length))\n",
        "\n",
        "    return password\n",
        "\n",
        "# Main program\n",
        "try:\n",
        "    length = int(input(\"Enter the desired password length: \"))\n",
        "    password = generate_password(length)\n",
        "    print(f\"Generated password: {password}\")\n",
        "except ValueError as ve:\n",
        "    print(ve)\n"
      ],
      "metadata": {
        "id": "BFVrkEi9fNiD",
        "colab": {
          "base_uri": "https://localhost:8080/"
        },
        "outputId": "b209300e-e02c-4b07-ae2e-6ef059e5bbf3"
      },
      "execution_count": null,
      "outputs": [
        {
          "output_type": "stream",
          "name": "stdout",
          "text": [
            "Enter the desired password length: 9\n",
            "Generated password: r-=O/oDZ,\n"
          ]
        }
      ]
    },
    {
      "cell_type": "markdown",
      "source": [
        "# Try these questions"
      ],
      "metadata": {
        "id": "6SmvS7nSfbj8"
      }
    },
    {
      "cell_type": "markdown",
      "source": [
        "(21) Define a base class called 'Vehicle' with attributes make and model. Create a derived class Car that inherits from Vehicle and has an additional attribute 'num_doors'. Demonstrate an example of creating an instance of the 'Car' class and accessing its attributes."
      ],
      "metadata": {
        "id": "cboAr5pEWUf5"
      }
    },
    {
      "cell_type": "code",
      "source": [
        "# write your answer here\n",
        "# Base class\n",
        "class Vehicle:\n",
        "    def __init__(self, make, model):\n",
        "        self.make = make\n",
        "        self.model = model\n",
        "\n",
        "    def display_info(self):\n",
        "        return f\"Make: {self.make}, Model: {self.model}\"\n",
        "\n",
        "# Derived class\n",
        "class Car(Vehicle):\n",
        "    def __init__(self, make, model, num_doors):\n",
        "        super().__init__(make, model)  # Initialize attributes from the base class\n",
        "        self.num_doors = num_doors\n",
        "\n",
        "    def display_info(self):\n",
        "        base_info = super().display_info()  # Get information from the base class\n",
        "        return f\"{base_info}, Number of Doors: {self.num_doors}\"\n",
        "\n",
        "# Create an instance of Car\n",
        "my_car = Car(make=\"Toyota\", model=\"Camry\", num_doors=4)\n",
        "\n",
        "# Access and print attributes\n",
        "print(f\"Make: {my_car.make}\")\n",
        "print(f\"Model: {my_car.model}\")\n",
        "print(f\"Number of Doors: {my_car.num_doors}\")\n",
        "\n",
        "# Use the display_info method\n",
        "print(my_car.display_info())\n"
      ],
      "metadata": {
        "id": "phs9gciMWWAW",
        "colab": {
          "base_uri": "https://localhost:8080/"
        },
        "outputId": "0bcc1542-ab38-42e8-d799-1dcea40763b2"
      },
      "execution_count": null,
      "outputs": [
        {
          "output_type": "stream",
          "name": "stdout",
          "text": [
            "Make: Toyota\n",
            "Model: Camry\n",
            "Number of Doors: 4\n",
            "Make: Toyota, Model: Camry, Number of Doors: 4\n"
          ]
        }
      ]
    },
    {
      "cell_type": "markdown",
      "source": [
        "(22) Create a class called 'Shape' with a method calculate_area(). Implement two derived classes 'Circle' and 'Rectangle' that inherit from Shape and override the calculate_area() method. Demonstrate polymorphism by creating instances of both derived classes and calling the calculate_area() method."
      ],
      "metadata": {
        "id": "J8HHefNtePwd"
      }
    },
    {
      "cell_type": "code",
      "source": [
        "# write your answer here\n",
        "import math\n",
        "\n",
        "# Base class\n",
        "class Shape:\n",
        "    def calculate_area(self):\n",
        "        raise NotImplementedError(\"Subclasses should implement this method.\")\n",
        "\n",
        "# Derived class for Circle\n",
        "class Circle(Shape):\n",
        "    def __init__(self, radius):\n",
        "        self.radius = radius\n",
        "\n",
        "    def calculate_area(self):\n",
        "        return math.pi * self.radius ** 2\n",
        "\n",
        "# Derived class for Rectangle\n",
        "class Rectangle(Shape):\n",
        "    def __init__(self, width, height):\n",
        "        self.width = width\n",
        "        self.height = height\n",
        "\n",
        "    def calculate_area(self):\n",
        "        return self.width * self.height\n",
        "\n",
        "# Demonstrate polymorphism\n",
        "def print_area(shape):\n",
        "    print(f\"The area of the shape is: {shape.calculate_area()}\")\n",
        "\n",
        "# Create instances of Circle and Rectangle\n",
        "circle = Circle(radius=5)\n",
        "rectangle = Rectangle(width=4, height=6)\n",
        "\n",
        "# Call the calculate_area method using the print_area function\n",
        "print_area(circle)\n",
        "print_area(rectangle)\n"
      ],
      "metadata": {
        "id": "btnMmUZDeRhS",
        "colab": {
          "base_uri": "https://localhost:8080/"
        },
        "outputId": "8ec24eeb-52c7-48c6-b41b-3a0d55245879"
      },
      "execution_count": null,
      "outputs": [
        {
          "output_type": "stream",
          "name": "stdout",
          "text": [
            "The area of the shape is: 78.53981633974483\n",
            "The area of the shape is: 24\n"
          ]
        }
      ]
    },
    {
      "cell_type": "markdown",
      "source": [
        "(23) Write a Python program that prompts the user to enter two numbers and perform a division operation. Handle exceptions for both zero division and invalid input (non-numeric input). Display appropriate error messages for each type of exception and ensure the program does not crash due to these errors."
      ],
      "metadata": {
        "id": "z0oqEAlTeMUS"
      }
    },
    {
      "cell_type": "code",
      "source": [
        "# write your answer here\n",
        "def perform_division():\n",
        "    try:\n",
        "        # Prompt the user to enter two numbers\n",
        "        numerator = float(input(\"Enter the numerator: \"))\n",
        "        denominator = float(input(\"Enter the denominator: \"))\n",
        "\n",
        "        # Perform the division\n",
        "        result = numerator / denominator\n",
        "        print(f\"Result of division: {result}\")\n",
        "\n",
        "    except ZeroDivisionError:\n",
        "        print(\"Error: Cannot divide by zero.\")\n",
        "    except ValueError:\n",
        "        print(\"Error: Invalid input. Please enter numeric values.\")\n",
        "    except Exception as e:\n",
        "        print(f\"An unexpected error occurred: {e}\")\n",
        "\n",
        "# Main program\n",
        "perform_division()\n"
      ],
      "metadata": {
        "id": "yjdc1zM1eMAs",
        "colab": {
          "base_uri": "https://localhost:8080/"
        },
        "outputId": "ec5baef5-3e02-47e5-ef3d-65cac710362e"
      },
      "execution_count": null,
      "outputs": [
        {
          "output_type": "stream",
          "name": "stdout",
          "text": [
            "Enter the numerator: 7\n",
            "Enter the denominator: 6\n",
            "Result of division: 1.1666666666666667\n"
          ]
        }
      ]
    },
    {
      "cell_type": "markdown",
      "source": [
        "# Mandatory Question"
      ],
      "metadata": {
        "id": "sZOhks1dXWEe"
      }
    },
    {
      "cell_type": "markdown",
      "source": [
        "**Important:**\n",
        "Reflecting on the first three lectures and the exercises you've completed, please provide feedback on your learning experience. Share your thoughts on whether the material covered was clear, the exercises were helpful, and if you feel more confident in applying Python programming concepts. Additionally, mention any specific areas where you would like more clarification or topics you would like to explore further in future lectures. Your feedback is valuable in shaping the course for an effective learning journey."
      ],
      "metadata": {
        "id": "eqmHVEwaWhbV"
      }
    },
    {
      "cell_type": "code",
      "source": [
        "'''\n",
        "Write your response here.\n",
        "\n",
        "#Its been a bit difficuly for me to get started with Python as I'm from a non-coding background but\n",
        "trying to cope up with the concepts and excited to learn more. And I feel like its pretty too much for a\n",
        "person like me to handle these concepts in very little time frame.\n",
        "\n",
        "'''"
      ],
      "metadata": {
        "id": "akAVJn9YBTQT"
      },
      "execution_count": null,
      "outputs": []
    }
  ],
  "metadata": {
    "colab": {
      "provenance": [],
      "collapsed_sections": [
        "FBKvD6O_TY6e",
        "E9RqrlwdTfvl",
        "03jb4GZsBkBS",
        "jJDe71iLB616",
        "55W9AMdXCSpV",
        "4ulBZ6yhCi9F",
        "6SmvS7nSfbj8",
        "sZOhks1dXWEe"
      ],
      "toc_visible": true,
      "include_colab_link": true
    },
    "kernelspec": {
      "display_name": "Python 3 (ipykernel)",
      "language": "python",
      "name": "python3"
    },
    "language_info": {
      "codemirror_mode": {
        "name": "ipython",
        "version": 3
      },
      "file_extension": ".py",
      "mimetype": "text/x-python",
      "name": "python",
      "nbconvert_exporter": "python",
      "pygments_lexer": "ipython3",
      "version": "3.9.12"
    }
  },
  "nbformat": 4,
  "nbformat_minor": 0
}