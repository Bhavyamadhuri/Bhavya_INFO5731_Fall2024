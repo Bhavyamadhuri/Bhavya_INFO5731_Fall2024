{
  "nbformat": 4,
  "nbformat_minor": 0,
  "metadata": {
    "colab": {
      "provenance": [],
      "authorship_tag": "ABX9TyMTA+qYNEvvAfzt+4lvY66z",
      "include_colab_link": true
    },
    "kernelspec": {
      "name": "python3",
      "display_name": "Python 3"
    },
    "language_info": {
      "name": "python"
    }
  },
  "cells": [
    {
      "cell_type": "markdown",
      "metadata": {
        "id": "view-in-github",
        "colab_type": "text"
      },
      "source": [
        "<a href=\"https://colab.research.google.com/github/Bhavyamadhuri/Bhavya_INFO5731_Fall2024/blob/main/Bhavya_Devarakonda_Exercise_01.ipynb\" target=\"_parent\"><img src=\"https://colab.research.google.com/assets/colab-badge.svg\" alt=\"Open In Colab\"/></a>"
      ]
    },
    {
      "cell_type": "code",
      "execution_count": null,
      "metadata": {
        "id": "yRCIOfR8Ig7d"
      },
      "outputs": [],
      "source": []
    },
    {
      "cell_type": "markdown",
      "source": [
        "Write a Python program that  prompts the user to input the length and width of a rectangle, and then calculates and displays the area of the rectangle."
      ],
      "metadata": {
        "id": "NMRPlRGsJ_WY"
      }
    },
    {
      "cell_type": "code",
      "source": [
        "a = input(\"Enter the length of a rectangle \")\n",
        "b = input(\"Enter the width of a rectangle \")\n",
        "area = float(a) * float(b)\n",
        "print(\"Area of the rectangle\", area)"
      ],
      "metadata": {
        "colab": {
          "base_uri": "https://localhost:8080/"
        },
        "id": "eyDMDI5iLPNN",
        "outputId": "92d7bef5-0519-45a0-ccc1-9120e27fb134"
      },
      "execution_count": 4,
      "outputs": [
        {
          "output_type": "stream",
          "name": "stdout",
          "text": [
            "Enter the length of a rectangle 7.7\n",
            "Enter the width of a rectangle 5.6\n",
            "Area of the rectangle 43.12\n"
          ]
        }
      ]
    },
    {
      "cell_type": "markdown",
      "source": [
        "Create a Python program that interactively takes two numerical inputs from the user and swaps their values without utilizing an extra variable.\n"
      ],
      "metadata": {
        "id": "3-R3UOpPMguE"
      }
    },
    {
      "cell_type": "code",
      "source": [
        "a = float(input(\"Enter the first number \"))\n",
        "b = float(input(\"Enter the second number \"))\n",
        "print(f\"\\nBefore swapping a = {a}, b = {b}\")\n",
        "a,b = b,a\n",
        "print(f\"\\nAfter swapping a ={a} , b = {b}\")"
      ],
      "metadata": {
        "colab": {
          "base_uri": "https://localhost:8080/"
        },
        "id": "NJ0DNn_BK9z2",
        "outputId": "f06099bb-6f33-4d96-c92c-a48a3885c3d2"
      },
      "execution_count": 17,
      "outputs": [
        {
          "output_type": "stream",
          "name": "stdout",
          "text": [
            "Enter the first number 79\n",
            "Enter the second number 9\n",
            "\n",
            "Before swapping a = 79.0, b = 9.0\n",
            "\n",
            "After swapping a =9.0 , b = 79.0\n"
          ]
        }
      ]
    },
    {
      "cell_type": "markdown",
      "source": [
        "Write a Python script to determine and print the length of a user-input string.\n"
      ],
      "metadata": {
        "id": "fGnUwdkEQpFG"
      }
    },
    {
      "cell_type": "code",
      "source": [
        "string = input(\"Enter the string:\")\n",
        "length_of_string = len(string)\n",
        "print(f\"Length of the string is {length_of_string}\")"
      ],
      "metadata": {
        "colab": {
          "base_uri": "https://localhost:8080/"
        },
        "id": "LCvRU_RjQ35a",
        "outputId": "3cca171a-8753-491a-d792-deac48960572"
      },
      "execution_count": 18,
      "outputs": [
        {
          "output_type": "stream",
          "name": "stdout",
          "text": [
            "Enter the string:asdfghjkl\n",
            "Length of the string is 9\n"
          ]
        }
      ]
    },
    {
      "cell_type": "markdown",
      "source": [
        "Construct a Python program that counts and displays the occurrences of each character in a given string.\n"
      ],
      "metadata": {
        "id": "SsmP8nx_Rkx3"
      }
    },
    {
      "cell_type": "code",
      "source": [
        "string = input(\"Enter the string:\")\n",
        "count_of_characters = {}\n",
        "for i in string:\n",
        "    if i in count_of_characters:\n",
        "        count_of_characters[i] += 1\n",
        "    else:\n",
        "        count_of_characters[i] = 1\n",
        "\n",
        "print(count_of_characters)"
      ],
      "metadata": {
        "colab": {
          "base_uri": "https://localhost:8080/"
        },
        "id": "11YDaMEzSRMG",
        "outputId": "3e93b7de-be02-4459-dc24-65845116f5a9"
      },
      "execution_count": 19,
      "outputs": [
        {
          "output_type": "stream",
          "name": "stdout",
          "text": [
            "Enter the string:asdfghasdf\n",
            "{'a': 2, 's': 2, 'd': 2, 'f': 2, 'g': 1, 'h': 1}\n"
          ]
        }
      ]
    },
    {
      "cell_type": "markdown",
      "source": [
        "Design a Python code to calculate the sum of all elements in a user-provided list.\n"
      ],
      "metadata": {
        "id": "gJHIqjaKS4mF"
      }
    },
    {
      "cell_type": "code",
      "source": [
        "a = input(\"Enter the numbers:\")\n",
        "number_list = list(map(int, a.split()))\n",
        "sum_of_list = sum(number_list)\n",
        "print(f\"Sum of the list is {sum_of_list}\")"
      ],
      "metadata": {
        "colab": {
          "base_uri": "https://localhost:8080/"
        },
        "id": "XtTpw2KpTa-N",
        "outputId": "d1d4710a-6430-4e11-d09d-fa2b7d7ab04f"
      },
      "execution_count": 21,
      "outputs": [
        {
          "output_type": "stream",
          "name": "stdout",
          "text": [
            "Enter the numbers:1 2 3 4 5 6 7 8\n",
            "Sum of the list is 36\n"
          ]
        }
      ]
    },
    {
      "cell_type": "markdown",
      "source": [
        "Write a Python program that modifies a given string by replacing all occurrences of its first character with '$', excluding the first character itself.\n"
      ],
      "metadata": {
        "id": "BBTQyScQV6hK"
      }
    },
    {
      "cell_type": "code",
      "source": [
        "string = input(\"Enter a string: \")\n",
        "\n",
        "\n",
        "if string:\n",
        "\n",
        "    first_character = string[0]\n",
        "    updated_string = first_character + string[1:].replace(first_character, '$')\n",
        "    print(f\"Updated string: {updated_string}\")\n",
        "else:\n",
        "    print(\"The string is empty.\")\n"
      ],
      "metadata": {
        "colab": {
          "base_uri": "https://localhost:8080/"
        },
        "id": "ut0-ua_BV_34",
        "outputId": "a2cb5e24-bc27-413e-f372-98e5ad8e18b0"
      },
      "execution_count": 25,
      "outputs": [
        {
          "output_type": "stream",
          "name": "stdout",
          "text": [
            "Enter a string: restart\n",
            "Updated string: resta$t\n"
          ]
        }
      ]
    },
    {
      "cell_type": "markdown",
      "source": [
        "Write a Python program using a while loop to compute the factorial of a user-supplied number."
      ],
      "metadata": {
        "id": "yCb6SJ3sXWmQ"
      }
    },
    {
      "cell_type": "code",
      "source": [
        "a = int(input(\"Enter a integer to compute its factorial: \"))\n",
        "fact = 1\n",
        "c = a\n",
        "while c > 1:\n",
        "    fact *= c\n",
        "    c -= 1\n",
        "print(f\"The factorial of {a} is: {fact}\")\n"
      ],
      "metadata": {
        "colab": {
          "base_uri": "https://localhost:8080/"
        },
        "id": "rdf0jC0vXZVS",
        "outputId": "c6584c3b-493a-47f2-9b8b-117226e0c543"
      },
      "execution_count": 27,
      "outputs": [
        {
          "output_type": "stream",
          "name": "stdout",
          "text": [
            "Enter a integer to compute its factorial: 7\n",
            "The factorial of 7 is: 5040\n"
          ]
        }
      ]
    },
    {
      "cell_type": "markdown",
      "source": [
        "Create a program that accepts a list of numbers as input and outputs a new list containing only the even numbers.\n"
      ],
      "metadata": {
        "id": "mMJaNMrCYzXA"
      }
    },
    {
      "cell_type": "code",
      "source": [
        "# Prompt the user to enter a list of numbers, separated by spaces\n",
        "input = input(\"Enter a list of numbers \")\n",
        "\n",
        "# Convert the user input into a list of numbers (floats)\n",
        "list_number = list(map(float, input.split()))\n",
        "\n",
        "# Create a new list containing only the even numbers\n",
        "even_numbers_list = [num for num in list_number if num % 2 == 0]\n",
        "\n",
        "# Display the list of even numbers\n",
        "print(\"List of only even numbers:\", even_numbers_list)\n"
      ],
      "metadata": {
        "colab": {
          "base_uri": "https://localhost:8080/"
        },
        "id": "9L4VydmXZXBD",
        "outputId": "78e268ef-7b63-4947-9b39-01064b4852f1"
      },
      "execution_count": 30,
      "outputs": [
        {
          "output_type": "stream",
          "name": "stdout",
          "text": [
            "Enter a list of numbers 76 77 78 79 88 71 34 33 45\n",
            "List of only even numbers: [76.0, 78.0, 88.0, 34.0]\n"
          ]
        }
      ]
    },
    {
      "cell_type": "markdown",
      "source": [
        "Write a Python program to concatenate following dictionaries to create a new one.\n"
      ],
      "metadata": {
        "id": "4vlPZSHZcj-U"
      }
    },
    {
      "cell_type": "code",
      "source": [
        "dict1 = {1:10, 2:20}\n",
        "dict2 = {3:30, 4:40}\n",
        "dict3 = {5:50, 6:60}\n",
        "concatenated_dictionary = {**dict1, **dict2, **dict3}\n",
        "print(\"Concatenated dictionary:\", concatenated_dictionary)"
      ],
      "metadata": {
        "colab": {
          "base_uri": "https://localhost:8080/"
        },
        "id": "gQQ3Ws8zc0M2",
        "outputId": "3127e915-a9bf-4f4a-e16b-931bed14e7a6"
      },
      "execution_count": 40,
      "outputs": [
        {
          "output_type": "stream",
          "name": "stdout",
          "text": [
            "Concatenated dictionary: {1: 10, 2: 20, 3: 30, 4: 40, 5: 50, 6: 60}\n"
          ]
        }
      ]
    },
    {
      "cell_type": "markdown",
      "source": [
        "Design a Python function that takes a tuple of integers as input and returns the largest and smallest elements.\n"
      ],
      "metadata": {
        "id": "EKx4JJO_deR5"
      }
    },
    {
      "cell_type": "code",
      "source": [
        "def find_largest_and_smallest(numbers):\n",
        "    if not numbers:\n",
        "        raise ValueError(\"The input tuple is empty.\")\n",
        "    smallest = min(numbers)\n",
        "    largest = max(numbers)\n",
        "\n",
        "    return (smallest, largest)\n",
        "num_tuple = (5, 1, 9, 3, 7)\n",
        "smallest, largest = find_largest_and_smallest(num_tuple)\n",
        "print(f\"Smallest element: {smallest}\")\n",
        "print(f\"Largest element: {largest}\")\n"
      ],
      "metadata": {
        "colab": {
          "base_uri": "https://localhost:8080/"
        },
        "id": "CuLFRxuWdfNs",
        "outputId": "41d9e164-b1c4-4849-d84b-de4735a78d91"
      },
      "execution_count": 43,
      "outputs": [
        {
          "output_type": "stream",
          "name": "stdout",
          "text": [
            "Smallest element: 1\n",
            "Largest element: 9\n"
          ]
        }
      ]
    }
  ]
}